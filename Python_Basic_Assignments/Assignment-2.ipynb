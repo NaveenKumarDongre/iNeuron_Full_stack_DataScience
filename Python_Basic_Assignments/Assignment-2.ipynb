{
 "cells": [
  {
   "cell_type": "markdown",
   "id": "e9f28454",
   "metadata": {},
   "source": [
    "# Assignment 2 (Python Basics)"
   ]
  },
  {
   "cell_type": "markdown",
   "id": "c8210a64",
   "metadata": {},
   "source": [
    "### 1.What are the values of the boolean data types? how do you write them ?"
   ]
  },
  {
   "cell_type": "markdown",
   "id": "57b24a86",
   "metadata": {},
   "source": [
    "For boolean data types we have two values True and False.\n",
    "Below is their implementation using a example."
   ]
  },
  {
   "cell_type": "code",
   "execution_count": 2,
   "id": "4dd0f109",
   "metadata": {},
   "outputs": [
    {
     "name": "stdout",
     "output_type": "stream",
     "text": [
      "True <class 'bool'>\n",
      "False <class 'bool'>\n"
     ]
    }
   ],
   "source": [
    "a = True\n",
    "print(a,type(a))\n",
    "b = False \n",
    "print(b,type(b))"
   ]
  },
  {
   "cell_type": "markdown",
   "id": "67bebcd3",
   "metadata": {},
   "source": [
    "### 2. What are the three different types of Boolean operators?"
   ]
  },
  {
   "cell_type": "markdown",
   "id": "9aabfa4a",
   "metadata": {},
   "source": [
    "Their are basically three different types Boolean operators in Python\n",
    "1. or\n",
    "2. and\n",
    "3. not"
   ]
  },
  {
   "cell_type": "code",
   "execution_count": 3,
   "id": "168a5dac",
   "metadata": {},
   "outputs": [
    {
     "name": "stdout",
     "output_type": "stream",
     "text": [
      "True\n",
      "True\n",
      "True\n"
     ]
    }
   ],
   "source": [
    "n =  0\n",
    "m =  1\n",
    "# Example of and operator\n",
    "print(n == 0 and n<2)\n",
    "\n",
    "# Example of or operator\n",
    "print(n == 1 or m == 1)\n",
    "\n",
    "# Example of not operator \n",
    "print(not(m==2))"
   ]
  },
  {
   "cell_type": "markdown",
   "id": "f51207d3",
   "metadata": {},
   "source": [
    "### 3. Make a list of each Boolean operator's truth tables (i.e. every possible combination of Boolean values for the operator and what it evaluate) ?"
   ]
  },
  {
   "cell_type": "markdown",
   "id": "dc1e10a7",
   "metadata": {},
   "source": [
    "The Truth tables for the boolean tables are as follows :"
   ]
  },
  {
   "cell_type": "markdown",
   "id": "7164a771",
   "metadata": {},
   "source": [
    "##### Truth Table for or operator"
   ]
  },
  {
   "cell_type": "markdown",
   "id": "7aaae33a",
   "metadata": {},
   "source": [
    "| A   | B   | A or B |\n",
    "| --- | --- | --- |\n",
    "| True | True | True |\n",
    "| True | False| True |\n",
    "| False| True | True |\n",
    "| False| False| False|"
   ]
  },
  {
   "cell_type": "markdown",
   "id": "84ca7474",
   "metadata": {},
   "source": [
    "#### Truth Table for and operator"
   ]
  },
  {
   "cell_type": "markdown",
   "id": "5341ee5b",
   "metadata": {},
   "source": [
    "|  A   |  B   | A and B |\n",
    "| --- | --- | --- |\n",
    "| True | True | True |\n",
    "| True | False| False|\n",
    "| False| True | False|\n",
    "| False| False| False|"
   ]
  },
  {
   "cell_type": "markdown",
   "id": "6e1f37a7",
   "metadata": {},
   "source": [
    "#### Truth Table for not operator "
   ]
  },
  {
   "cell_type": "markdown",
   "id": "bdd5eb04",
   "metadata": {},
   "source": [
    "| A   | not A   |\n",
    "| --- | --- |\n",
    "| True | False|\n",
    "| False | True| \n"
   ]
  },
  {
   "cell_type": "markdown",
   "id": "e0167e4b",
   "metadata": {},
   "source": [
    "### 4. What are the values of the following expressions?"
   ]
  },
  {
   "cell_type": "markdown",
   "id": "fb1c4914",
   "metadata": {},
   "source": [
    "##### 1. (5 > 4) and (3 == 5)\n",
    "##### 2. not (5 > 4)\n",
    "##### 3. (5 > 4) or (3 == 5)\n",
    "##### 4. not ((5 > 4) or (3 == 5))\n",
    "##### 5. (True and True) and (True == False)\n",
    "##### 6. (not False) or (not True)"
   ]
  },
  {
   "cell_type": "code",
   "execution_count": 9,
   "id": "2f18c434",
   "metadata": {},
   "outputs": [
    {
     "name": "stdout",
     "output_type": "stream",
     "text": [
      "False\n",
      "False\n",
      "True\n",
      "False\n",
      "False\n",
      "True\n"
     ]
    }
   ],
   "source": [
    "print((5 > 4) and (3 == 5))\n",
    "print(not (5 > 4))\n",
    "print((5 > 4) or (3 == 5))\n",
    "print(not ((5 > 4) or (3 == 5)))\n",
    "print((True and True) and (True == False))\n",
    "print((not False) or (not True))"
   ]
  },
  {
   "cell_type": "markdown",
   "id": "3f77812b",
   "metadata": {},
   "source": [
    "### 5. What are the six comparison operators?"
   ]
  },
  {
   "cell_type": "markdown",
   "id": "fb56b43e",
   "metadata": {},
   "source": [
    "The Six comparision operators available in python are:\n",
    "== , != , < , > , <= , =>"
   ]
  },
  {
   "cell_type": "markdown",
   "id": "20957dfa",
   "metadata": {},
   "source": [
    "### 6. How do you tell the difference between the equal to and assignment operators?Describe a condition and when you would use one ?"
   ]
  },
  {
   "cell_type": "markdown",
   "id": "98bad1a1",
   "metadata": {},
   "source": [
    "== is the equal to operator that compares two values and evaluates to a Boolean, while = is that assignment operator that stores a value in a variable."
   ]
  },
  {
   "cell_type": "code",
   "execution_count": 11,
   "id": "e5ee1078",
   "metadata": {},
   "outputs": [
    {
     "name": "stdout",
     "output_type": "stream",
     "text": [
      "True\n"
     ]
    }
   ],
   "source": [
    "n = 4 # Assigning operator that stores value of 4 in n \n",
    "\n",
    "if n == 4: # basically equality operator returns boolean result\n",
    "    print(n == 4)"
   ]
  },
  {
   "cell_type": "markdown",
   "id": "ead32d32",
   "metadata": {},
   "source": [
    "### 7. Identify the three blocks in this code:"
   ]
  },
  {
   "cell_type": "markdown",
   "id": "d5e4a1e9",
   "metadata": {},
   "source": [
    "spam = 0\n",
    "\n",
    "if spam == 10:\n",
    "\n",
    "print('eggs')\n",
    "\n",
    "if spam > 5:\n",
    "\n",
    "print('bacon')\n",
    "\n",
    "else:\n",
    "\n",
    "print('ham')\n",
    "\n",
    "print('spam')\n",
    "\n",
    "print('spam')"
   ]
  },
  {
   "cell_type": "code",
   "execution_count": 12,
   "id": "486654f3",
   "metadata": {},
   "outputs": [
    {
     "name": "stdout",
     "output_type": "stream",
     "text": [
      "ham\n",
      "spam\n",
      "spam\n"
     ]
    }
   ],
   "source": [
    "# In python every block of code is represted by the block of code\n",
    "spam = 0\n",
    "if spam == 10:\n",
    "    #Block 1\n",
    "    print('eggs')\n",
    "    \n",
    "if spam > 5:\n",
    "    #Block 2\n",
    "    print('bacon')\n",
    "else:\n",
    "    #Block 3\n",
    "    print('ham')\n",
    "print('spam')\n",
    "print('spam')"
   ]
  },
  {
   "cell_type": "markdown",
   "id": "94665047",
   "metadata": {},
   "source": [
    "### 8. Write code that prints Hello if 1 is stored in spam, prints Howdy if 2 is stored in spam, and prints Greetings! if anything else is stored in spam."
   ]
  },
  {
   "cell_type": "code",
   "execution_count": 13,
   "id": "55c37646",
   "metadata": {},
   "outputs": [
    {
     "name": "stdout",
     "output_type": "stream",
     "text": [
      "Hello\n",
      "Howdy\n",
      "Greetings\n"
     ]
    }
   ],
   "source": [
    "def spamCode(spam):\n",
    "    if spam==1:\n",
    "        print('Hello')\n",
    "    elif spam==2:\n",
    "        print('Howdy')\n",
    "    else:\n",
    "        print('Greetings')\n",
    "        \n",
    "spamCode(1) \n",
    "spamCode(2)\n",
    "spamCode(3)"
   ]
  },
  {
   "cell_type": "markdown",
   "id": "c080d3ef",
   "metadata": {},
   "source": [
    "### 9.If your programme is stuck in an endless loop, what keys you’ll press?"
   ]
  },
  {
   "cell_type": "markdown",
   "id": "c677134c",
   "metadata": {},
   "source": [
    "To terminate the endless loop we can press Ctrl-C"
   ]
  },
  {
   "cell_type": "markdown",
   "id": "0be51e8a",
   "metadata": {},
   "source": [
    "### 10. How can you tell the difference between break and continue?"
   ]
  },
  {
   "cell_type": "markdown",
   "id": "c69e8dd5",
   "metadata": {},
   "source": [
    "Basically in the break statement is exectued we will directly break out of the loop iterations and execute the code just after the loop.\n",
    "\n",
    "But in continue statement it will directly jump to the start of the loop skipping the code execution after the continue statement"
   ]
  },
  {
   "cell_type": "markdown",
   "id": "a9d7fb56",
   "metadata": {},
   "source": [
    "### 11. In a for loop, what is the difference between range(10), range(0, 10), and range(0, 10, 1)?"
   ]
  },
  {
   "cell_type": "markdown",
   "id": "a8f34a40",
   "metadata": {},
   "source": [
    "The range() function returns a sequence of numbers, starting from 0 by default, and increments by 1 (by default), and stops before a specified number."
   ]
  },
  {
   "cell_type": "markdown",
   "id": "8411f999",
   "metadata": {},
   "source": [
    "#### Syntax\n",
    "range(start, stop, step)"
   ]
  },
  {
   "cell_type": "markdown",
   "id": "bf037e60",
   "metadata": {},
   "source": [
    "##### 1. The range(10) call range from 0 to 9 (but not include 10) "
   ]
  },
  {
   "cell_type": "code",
   "execution_count": 6,
   "id": "dc65cc60",
   "metadata": {},
   "outputs": [
    {
     "name": "stdout",
     "output_type": "stream",
     "text": [
      "[0, 1, 2, 3, 4, 5, 6, 7, 8, 9]\n"
     ]
    }
   ],
   "source": [
    "print(list(range(10)))"
   ]
  },
  {
   "cell_type": "markdown",
   "id": "d568934b",
   "metadata": {},
   "source": [
    "##### 2. The range (0,10) explicitly tells the loop to start at 0 to 9"
   ]
  },
  {
   "cell_type": "code",
   "execution_count": 7,
   "id": "aa6ce69a",
   "metadata": {},
   "outputs": [
    {
     "name": "stdout",
     "output_type": "stream",
     "text": [
      "[0, 1, 2, 3, 4, 5, 6, 7, 8, 9]\n"
     ]
    }
   ],
   "source": [
    "print(list(range(0,10)))"
   ]
  },
  {
   "cell_type": "markdown",
   "id": "40f8e769",
   "metadata": {},
   "source": [
    "##### 3. The range(0,10,1) explicitly tells the loop to increase the variable by 1 on each iteration"
   ]
  },
  {
   "cell_type": "code",
   "execution_count": 8,
   "id": "7f16af3a",
   "metadata": {},
   "outputs": [
    {
     "name": "stdout",
     "output_type": "stream",
     "text": [
      "[0, 1, 2, 3, 4, 5, 6, 7, 8, 9]\n"
     ]
    }
   ],
   "source": [
    "print(list(range(0,10,1)))"
   ]
  },
  {
   "cell_type": "markdown",
   "id": "94e25b4a",
   "metadata": {},
   "source": [
    "### 12. Write a short program that prints the numbers 1 to 10 using a for loop. Then write an equivalent program that prints the numbers 1 to 10 using a while loop ?"
   ]
  },
  {
   "cell_type": "code",
   "execution_count": 11,
   "id": "4ce1120a",
   "metadata": {},
   "outputs": [
    {
     "name": "stdout",
     "output_type": "stream",
     "text": [
      "Program to print number from 1 - 10 using for loop\n",
      "1 2 3 4 5 6 7 8 9 10 \n",
      "Program to print number from 1 - 10 using while loop\n",
      "1 2 3 4 5 6 7 8 9 10 "
     ]
    }
   ],
   "source": [
    "print(\"Program to print number from 1 - 10 using for loop\")\n",
    "for i in range(1,11):\n",
    "    print(i, end=\" \")\n",
    "    \n",
    "print()\n",
    "\n",
    "print(\"Program to print number from 1 - 10 using while loop\")\n",
    "i = 1\n",
    "while i < 11:\n",
    "    print(i,end=\" \")\n",
    "    i+=1"
   ]
  },
  {
   "cell_type": "markdown",
   "id": "4a39053e",
   "metadata": {},
   "source": [
    "### 13. If you had a function named bacon() inside a module named spam, how would you call it after importing spam ?"
   ]
  },
  {
   "cell_type": "markdown",
   "id": "c7046b7d",
   "metadata": {},
   "source": [
    "So, bacon function can be called with <b>spam.bacon()</b>"
   ]
  }
 ],
 "metadata": {
  "kernelspec": {
   "display_name": "Python 3",
   "language": "python",
   "name": "python3"
  },
  "language_info": {
   "codemirror_mode": {
    "name": "ipython",
    "version": 3
   },
   "file_extension": ".py",
   "mimetype": "text/x-python",
   "name": "python",
   "nbconvert_exporter": "python",
   "pygments_lexer": "ipython3",
   "version": "3.8.8"
  }
 },
 "nbformat": 4,
 "nbformat_minor": 5
}
