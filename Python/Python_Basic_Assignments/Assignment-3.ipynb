{
 "cells": [
  {
   "cell_type": "markdown",
   "id": "714cafaa",
   "metadata": {},
   "source": [
    "<h1>Assignment 3 Python- Basics (Solution)<h1>"
   ]
  },
  {
   "cell_type": "markdown",
   "id": "9262651a",
   "metadata": {},
   "source": [
    "### 1. Why are functions advantageous to have in your programs?"
   ]
  },
  {
   "cell_type": "markdown",
   "id": "f9050093",
   "metadata": {},
   "source": [
    "<b>Ans:</b>Functions reduce the need for duplicate code. This makes programs shorter, easier to read, and easier to update. The main advantage of functions is code Reusability."
   ]
  },
  {
   "cell_type": "markdown",
   "id": "6e913242",
   "metadata": {},
   "source": [
    "### 2. When does the code in a function run: when it's specified or when it's called?"
   ]
  },
  {
   "cell_type": "markdown",
   "id": "bb3e964a",
   "metadata": {},
   "source": [
    "<b>Ans:</b> The code in a function executes when the function is called, not when the function is specified."
   ]
  },
  {
   "cell_type": "code",
   "execution_count": 2,
   "id": "c2d5e923",
   "metadata": {},
   "outputs": [
    {
     "name": "stdout",
     "output_type": "stream",
     "text": [
      "I called the fun function\n"
     ]
    }
   ],
   "source": [
    "# specifying or defining the function below\n",
    "def fun():\n",
    "    print(\"I called the fun function\")\n",
    "\n",
    "# calling the fuction \n",
    "fun()"
   ]
  },
  {
   "cell_type": "markdown",
   "id": "f0ade264",
   "metadata": {},
   "source": [
    "### 3. What statement creates a function?"
   ]
  },
  {
   "cell_type": "markdown",
   "id": "1df203ba",
   "metadata": {},
   "source": [
    "<b>Ans: </b> We use def statement to defines a function."
   ]
  },
  {
   "cell_type": "markdown",
   "id": "3ca09fee",
   "metadata": {},
   "source": [
    "<b>Syntax of the defining a function</b>"
   ]
  },
  {
   "cell_type": "markdown",
   "id": "ec11287c",
   "metadata": {},
   "source": [
    "def function_name(parameters):\n",
    "\n",
    "    \"\"\"doc strings\"\"\"\n",
    "    \n",
    "    ----Function Body----\n",
    "    \n",
    "    return value"
   ]
  },
  {
   "cell_type": "markdown",
   "id": "ab74c240",
   "metadata": {},
   "source": [
    "### 4. What is the difference between a function and a function call?"
   ]
  },
  {
   "cell_type": "markdown",
   "id": "e0c1974d",
   "metadata": {},
   "source": [
    "<B>Ans. </B> A fuction basically consist of a particular code snippet once which is executed carray out a particular task in programm and sometimes that task case can executed multiple times in the program so to avoid redunacy of code line we define a function in which we put all the code snippet which can be needed in future and in this way it increases the reusablilty of our code and make it more modular.\n",
    "\n",
    "<B>Function call</B>\n",
    "Basically once a function is defined it is not exectued at the same time so to execute a particular function in our program we need to <b>call the function</b>, and if neccessary we need to pass the parameters to it if requried below is a example."
   ]
  },
  {
   "cell_type": "code",
   "execution_count": 3,
   "id": "35700e63",
   "metadata": {},
   "outputs": [
    {
     "name": "stdout",
     "output_type": "stream",
     "text": [
      "hello you called a function\n"
     ]
    }
   ],
   "source": [
    "#  Defining a function\n",
    "def function():\n",
    "    print(\"hello you called a function\")\n",
    "\n",
    "# Calling the function \n",
    "function()"
   ]
  },
  {
   "cell_type": "markdown",
   "id": "3ea7f734",
   "metadata": {},
   "source": [
    "### 5. How many global scopes are there in a Python program? How many local scopes?"
   ]
  },
  {
   "cell_type": "markdown",
   "id": "d74f04ed",
   "metadata": {},
   "source": [
    "<B>Ans:</B> There is one global scope, and a local scope is created whenever a function is called."
   ]
  },
  {
   "cell_type": "markdown",
   "id": "8de98692",
   "metadata": {},
   "source": [
    "### 6. What happens to variables in a local scope when the function call returns?"
   ]
  },
  {
   "cell_type": "markdown",
   "id": "ce5b94e0",
   "metadata": {},
   "source": [
    "<B>Ans:</B> When a function returns, the local scope is destroyed, and all the variables are that are present in the local scope are destroyed or erazed from the stack memory."
   ]
  },
  {
   "cell_type": "markdown",
   "id": "6dc7d4c6",
   "metadata": {},
   "source": [
    "### 7. What is the concept of a return value? Is it possible to have a return value in an expression?"
   ]
  },
  {
   "cell_type": "markdown",
   "id": "de945721",
   "metadata": {},
   "source": [
    "<b>Ans :</b> The basic concept behinf a return value is the when a fuction is evaluated and called it gives its result of the evalution of the function body code with the help of the <b>return</b> statement"
   ]
  },
  {
   "cell_type": "code",
   "execution_count": 5,
   "id": "9991f275",
   "metadata": {},
   "outputs": [
    {
     "name": "stdout",
     "output_type": "stream",
     "text": [
      "4\n"
     ]
    }
   ],
   "source": [
    "def sum(a,b):\n",
    "    ans = a + b\n",
    "#Below is  the return statement which returns the ans\n",
    "    return ans \n",
    "\n",
    "# calliing the function \n",
    "print(sum(2,2))"
   ]
  },
  {
   "cell_type": "markdown",
   "id": "9b593b0d",
   "metadata": {},
   "source": [
    "Yes it is possible to have a return value in an expression"
   ]
  },
  {
   "cell_type": "code",
   "execution_count": 7,
   "id": "9dba7335",
   "metadata": {},
   "outputs": [
    {
     "name": "stdout",
     "output_type": "stream",
     "text": [
      "2\n"
     ]
    }
   ],
   "source": [
    "def sum(a,b):\n",
    "    #Here below I am returning the expression 'a+b'\n",
    "    return a + b \n",
    "print(sum(1,1))"
   ]
  },
  {
   "cell_type": "markdown",
   "id": "bb281fdb",
   "metadata": {},
   "source": [
    "### 8. If a function does not have a return statement, what is the return value of a call to that function?"
   ]
  },
  {
   "cell_type": "markdown",
   "id": "824bc272",
   "metadata": {},
   "source": [
    "<b>Ans:</b> If there is no return statement for a function, its return value is None."
   ]
  },
  {
   "cell_type": "code",
   "execution_count": 8,
   "id": "4d12fa4d",
   "metadata": {},
   "outputs": [
    {
     "name": "stdout",
     "output_type": "stream",
     "text": [
      "Naveen\n",
      "<class 'NoneType'>\n"
     ]
    }
   ],
   "source": [
    "def print_str(string):\n",
    "    print(string)\n",
    "    \n",
    "print(type(print_str(\"Naveen\")))"
   ]
  },
  {
   "cell_type": "markdown",
   "id": "2421402c",
   "metadata": {},
   "source": [
    "### 9. How do you make a function variable refer to the global variable?"
   ]
  },
  {
   "cell_type": "markdown",
   "id": "c49b3a17",
   "metadata": {},
   "source": [
    "<b>Ans:</b>A global statement will force a variable in a function to refer to the global variable. If you want to refer to a global variable in a function, you can use the global keyword to declare which variables are global."
   ]
  },
  {
   "cell_type": "code",
   "execution_count": 20,
   "id": "5f9ddad0",
   "metadata": {},
   "outputs": [
    {
     "name": "stdout",
     "output_type": "stream",
     "text": [
      "1\n"
     ]
    }
   ],
   "source": [
    "globvar = 0\n",
    "\n",
    "def set_globvar_to_one():\n",
    "    global globvar    # Needed to modify global copy of globvar\n",
    "    globvar = 1\n",
    "\n",
    "def print_globvar():\n",
    "    print(globvar)     # No need for global declaration to read value of globvar\n",
    "\n",
    "set_globvar_to_one()\n",
    "print_globvar()       # Prints 1"
   ]
  },
  {
   "cell_type": "markdown",
   "id": "100081c0",
   "metadata": {},
   "source": [
    "### 10. What is the data type of None?\n",
    "<b>Ans:</b> The data type of None is NoneType."
   ]
  },
  {
   "cell_type": "markdown",
   "id": "8f041f10",
   "metadata": {},
   "source": [
    "### 11. What does the sentence import areallyourpetsnamederic do?"
   ]
  },
  {
   "cell_type": "markdown",
   "id": "fac9b4ed",
   "metadata": {},
   "source": [
    "Ans: The main fuctionality of the import statement is to bring the functionality of the code which id written in some other file so that we can use the existing resources code more efficiently and reuse the existing resources without re-inventing the wheel again .That import statement imports a module named areallyourpetsnamederic in our program."
   ]
  },
  {
   "cell_type": "markdown",
   "id": "da713bdb",
   "metadata": {},
   "source": [
    "### 12. If you had a bacon() feature in a spam module, what would you call it after importing spam?"
   ]
  },
  {
   "cell_type": "markdown",
   "id": "949b077e",
   "metadata": {},
   "source": [
    "<b>Ans: </b> This function can be called with spam.bacon()."
   ]
  },
  {
   "cell_type": "markdown",
   "id": "59d2c7b8",
   "metadata": {},
   "source": [
    "### 13. What can you do to save a programme from crashing if it encounters an error?"
   ]
  },
  {
   "cell_type": "markdown",
   "id": "ced8459e",
   "metadata": {},
   "source": [
    "<b>Ans:</b> Place the line of code that might cause an error in a try clause and use except block to handle the error."
   ]
  },
  {
   "cell_type": "markdown",
   "id": "d52c1259",
   "metadata": {},
   "source": [
    "The try block will generate an exception, because x is not defined:"
   ]
  },
  {
   "cell_type": "code",
   "execution_count": 31,
   "id": "0393a761",
   "metadata": {},
   "outputs": [
    {
     "name": "stdout",
     "output_type": "stream",
     "text": [
      "An exception occurred\n",
      "The program is still exectued\n"
     ]
    }
   ],
   "source": [
    "try:\n",
    "    x = a\n",
    "    print(x)\n",
    "except:\n",
    "  print(\"An exception occurred\")\n",
    "\n",
    "print(\"The program is still exectued\")\n",
    "\n",
    "\n",
    "# Here in the above code and exception is occered called as NameError \n",
    "# as for the python it is unknow what x = a means its not a string , int , float \n",
    "# that's it will give us error as Name error but using try and expect block we \n",
    "# say get of the error which stop the further execution of the program"
   ]
  },
  {
   "cell_type": "markdown",
   "id": "21238150",
   "metadata": {},
   "source": [
    "### 14. What is the purpose of the try clause? What is the purpose of the except clause?"
   ]
  },
  {
   "cell_type": "markdown",
   "id": "43bb4b4b",
   "metadata": {},
   "source": [
    "<b>Ans:</b>The code that could potentially cause an error goes in the try clause. The code that executes if an error happens goes in the except clause."
   ]
  }
 ],
 "metadata": {
  "kernelspec": {
   "display_name": "Python 3",
   "language": "python",
   "name": "python3"
  },
  "language_info": {
   "codemirror_mode": {
    "name": "ipython",
    "version": 3
   },
   "file_extension": ".py",
   "mimetype": "text/x-python",
   "name": "python",
   "nbconvert_exporter": "python",
   "pygments_lexer": "ipython3",
   "version": "3.8.8"
  }
 },
 "nbformat": 4,
 "nbformat_minor": 5
}
